{
  "nbformat": 4,
  "nbformat_minor": 0,
  "metadata": {
    "colab": {
      "provenance": [],
      "authorship_tag": "ABX9TyP8A7+S1jpkod6lSvvqztso",
      "include_colab_link": true
    },
    "kernelspec": {
      "name": "python3",
      "display_name": "Python 3"
    },
    "language_info": {
      "name": "python"
    }
  },
  "cells": [
    {
      "cell_type": "markdown",
      "metadata": {
        "id": "view-in-github",
        "colab_type": "text"
      },
      "source": [
        "<a href=\"https://colab.research.google.com/github/MohammadErfanRashidi/Audio_Transcription/blob/main/Audio_Transcription.ipynb\" target=\"_parent\"><img src=\"https://colab.research.google.com/assets/colab-badge.svg\" alt=\"Open In Colab\"/></a>"
      ]
    },
    {
      "cell_type": "code",
      "execution_count": null,
      "metadata": {
        "id": "OTU6-m-c0aNb"
      },
      "outputs": [],
      "source": [
        "# Install necessary libraries.\n",
        "!pip install SpeechRecognition pydub\n"
      ]
    },
    {
      "cell_type": "code",
      "source": [
        "# Install ffmpeg for audio processing.\n",
        "!apt-get install ffmpeg\n"
      ],
      "metadata": {
        "id": "nZzbPH6U1MyO"
      },
      "execution_count": null,
      "outputs": []
    },
    {
      "cell_type": "code",
      "source": [
        "# Import AudioSegment for audio manipulation.\n",
        "from pydub import AudioSegment\n",
        "\n",
        "# Convert mp3 to wav\n",
        "audio = AudioSegment.from_file(\"YourAudioFile.mp3\")\n",
        "audio.export(\"file.wav\", format=\"wav\")\n"
      ],
      "metadata": {
        "id": "yiwcM9FE1RHv"
      },
      "execution_count": null,
      "outputs": []
    },
    {
      "cell_type": "code",
      "source": [
        "# Import speech recognition library.\n",
        "import speech_recognition as sr\n",
        "\n",
        "# Initialize recognizer\n",
        "recognizer = sr.Recognizer()\n"
      ],
      "metadata": {
        "id": "GycLQuU41s5u"
      },
      "execution_count": null,
      "outputs": []
    },
    {
      "cell_type": "code",
      "source": [
        "# Load audio file for transcription.\n",
        "audio_file = \"file.wav\"\n",
        "with sr.AudioFile(audio_file) as source:\n",
        "    audio_data = recognizer.record(source)\n"
      ],
      "metadata": {
        "id": "3V7PGkN01yzy"
      },
      "execution_count": null,
      "outputs": []
    },
    {
      "cell_type": "code",
      "source": [
        "# Perform speech recognition and print transcription.\n",
        "try:\n",
        "    text = recognizer.recognize_google(audio_data)\n",
        "    print(\"Transcription: \", text)\n",
        "except sr.UnknownValueError:\n",
        "    print(\"Google Speech Recognition could not understand the audio\")\n",
        "except sr.RequestError as e:\n",
        "    print(f\"Could not request results from Google Speech Recognition service; {e}\")\n"
      ],
      "metadata": {
        "id": "m2kxYGnu11n0"
      },
      "execution_count": null,
      "outputs": []
    },
    {
      "cell_type": "code",
      "source": [
        "# Save transcription to a text file.\n",
        "with open(\"transcription.txt\", \"w\") as f:\n",
        "    f.write(text)\n"
      ],
      "metadata": {
        "id": "bF3KTglYN5lV"
      },
      "execution_count": null,
      "outputs": []
    }
  ]
}